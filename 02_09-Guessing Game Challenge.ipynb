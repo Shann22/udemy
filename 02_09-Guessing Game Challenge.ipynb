{
 "cells": [
  {
   "cell_type": "markdown",
   "metadata": {},
   "source": [
    "___\n",
    "\n",
    "<a href='https://www.udemy.com/user/joseportilla/'><img src='../Pierian_Data_Logo.png'/></a>\n",
    "___\n",
    "<center><em>Content Copyright by Pierian Data</em></center>"
   ]
  },
  {
   "cell_type": "markdown",
   "metadata": {},
   "source": [
    "# Guessing Game Challenge\n",
    "\n",
    "Let's use `while` loops to create a guessing game.\n",
    "\n",
    "The Challenge:\n",
    "\n",
    "Write a program that picks a random integer from 1 to 100, and has players guess the number. The rules are:\n",
    "\n",
    "1. If a player's guess is less than 1 or greater than 100, say \"OUT OF BOUNDS\"\n",
    "2. On a player's first turn, if their guess is\n",
    " * within 10 of the number, return \"WARM!\"\n",
    " * further than 10 away from the number, return \"COLD!\"\n",
    "3. On all subsequent turns, if a guess is \n",
    " * closer to the number than the previous guess return \"WARMER!\"\n",
    " * farther from the number than the previous guess, return \"COLDER!\"\n",
    "4. When the player's guess equals the number, tell them they've guessed correctly *and* how many guesses it took!\n",
    "\n",
    "You can try this from scratch, or follow the steps outlined below. A separate Solution notebook has been provided. Good luck!\n"
   ]
  },
  {
   "cell_type": "markdown",
   "metadata": {},
   "source": [
    "#### First, pick a random integer from 1 to 100 using the random module and assign it to a variable\n",
    "\n",
    "Note: `random.randint(a,b)` returns a random integer in range `[a, b]`, including both end points."
   ]
  },
  {
   "cell_type": "code",
   "execution_count": 1,
   "metadata": {},
   "outputs": [
    {
     "data": {
      "text/plain": [
       "69"
      ]
     },
     "execution_count": 1,
     "metadata": {},
     "output_type": "execute_result"
    }
   ],
   "source": [
    "import random\n",
    "n = random.randint(1, 100)\n",
    "n"
   ]
  },
  {
   "cell_type": "markdown",
   "metadata": {},
   "source": [
    "#### Next, print an introduction to the game and explain the rules"
   ]
  },
  {
   "cell_type": "code",
   "execution_count": 2,
   "metadata": {},
   "outputs": [
    {
     "name": "stdout",
     "output_type": "stream",
     "text": [
      "WELCOME TO GUESS ME!\n",
      "I'm thinking of a number between 1 and 100\n",
      "If your guess is more than 10 away from my number, I'll tell you you're COLD\n",
      "If your guess is within 10 of my number, I'll tell you you're WARM\n",
      "If your guess is farther than your most recent guess, I'll say you're getting COLDER\n",
      "If your guess is closer than your most recent guess, I'll say you're getting WARMER\n",
      "LET'S PLAY!\n"
     ]
    }
   ],
   "source": [
    "print(\"WELCOME TO GUESS ME!\")\n",
    "print(\"I'm thinking of a number between 1 and 100\")\n",
    "print(\"If your guess is more than 10 away from my number, I'll tell you you're COLD\")\n",
    "print(\"If your guess is within 10 of my number, I'll tell you you're WARM\")\n",
    "print(\"If your guess is farther than your most recent guess, I'll say you're getting COLDER\")\n",
    "print(\"If your guess is closer than your most recent guess, I'll say you're getting WARMER\")\n",
    "print(\"LET'S PLAY!\")"
   ]
  },
  {
   "cell_type": "markdown",
   "metadata": {},
   "source": [
    "g < 1 or g > 100 -> \"OUT OF BOUNDS\"\n",
    "\n",
    "abs(n - g) < 10 -> \"WARM!\"\n",
    "abs(n - g) > 10 -> \"COLD!\"\n",
    "\n",
    "abs(n - g1) < abs(n - g2) -> \"COLDER!\"\n",
    "abs(n - g1) > abs(n - g2) -> \"WARMER!\"\n",
    "\n",
    "n = g -> how many guesses"
   ]
  },
  {
   "cell_type": "code",
   "execution_count": 3,
   "metadata": {},
   "outputs": [
    {
     "name": "stdout",
     "output_type": "stream",
     "text": [
      "I'm thinking of a number between 1 and 100. What's your guess? 105\n",
      "OUT OF BOUNDS! Please try again: \n",
      "I'm thinking of a number between 1 and 100. What's your guess? 7\n",
      "[7]\n",
      "WARM!\n",
      "I'm thinking of a number between 1 and 100. What's your guess? 9\n",
      "[7, 9]\n",
      "COLDER!\n",
      "I'm thinking of a number between 1 and 100. What's your guess? 3\n",
      "[7, 9, 3]\n",
      "You've guessed correctly and 3 guesses it took!\n"
     ]
    }
   ],
   "source": [
    "n = 3\n",
    "guesses = []\n",
    "\n",
    "while True: \n",
    "    g = int(input(\"I'm thinking of a number between 1 and 100. What's your guess? \"))\n",
    "    \n",
    "    if g < 1 or g > 100:\n",
    "        print(\"OUT OF BOUNDS! Please try again: \")\n",
    "        continue\n",
    "    \n",
    "    else:\n",
    "        guesses.append(g)\n",
    "        print(guesses)\n",
    "        if n == g:\n",
    "            print(f\"You've guessed correctly and {len(guesses)} guesses it took!\")\n",
    "            break\n",
    "            \n",
    "        elif len(guesses) >= 2:\n",
    "            if abs(n - g) > abs(n - guesses[-2]):\n",
    "                print(\"COLDER!\")\n",
    "            else:\n",
    "                print(\"WARMER!\")   \n",
    "            \n",
    "        else:\n",
    "            if abs(n - g) > 10:\n",
    "                print(\"COLD!\")\n",
    "            else:\n",
    "                print(\"WARM!\") "
   ]
  },
  {
   "cell_type": "markdown",
   "metadata": {},
   "source": [
    "### Good Job!"
   ]
  }
 ],
 "metadata": {
  "kernelspec": {
   "display_name": "Python 3 (ipykernel)",
   "language": "python",
   "name": "python3"
  },
  "language_info": {
   "codemirror_mode": {
    "name": "ipython",
    "version": 3
   },
   "file_extension": ".py",
   "mimetype": "text/x-python",
   "name": "python",
   "nbconvert_exporter": "python",
   "pygments_lexer": "ipython3",
   "version": "3.9.7"
  }
 },
 "nbformat": 4,
 "nbformat_minor": 2
}
